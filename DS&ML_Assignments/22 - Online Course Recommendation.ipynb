{
 "cells": [
  {
   "cell_type": "code",
   "execution_count": 1,
   "id": "ac944f65-5a44-4930-a8fa-6bb12ac948ce",
   "metadata": {},
   "outputs": [
    {
     "name": "stdout",
     "output_type": "stream",
     "text": [
      "--- Course Recommendation: Top Association Rules ---\n",
      "         antecedents        consequents  support  confidence  lift\n",
      "0       (Algorithms)  (Data_Structures)    0.375        1.00   2.0\n",
      "1  (Data_Structures)       (Algorithms)    0.375        0.75   2.0\n",
      "2   (Linear_Algebra)       (Calculus_I)    0.250        1.00   4.0\n",
      "3       (Calculus_I)   (Linear_Algebra)    0.250        1.00   4.0\n"
     ]
    }
   ],
   "source": [
    "import pandas as pd\n",
    "from mlxtend.preprocessing import TransactionEncoder\n",
    "from mlxtend.frequent_patterns import apriori, association_rules\n",
    "\n",
    "# Data: Each list represents the courses taken by a single student.\n",
    "student_enrollments = [\n",
    "    ['Intro_to_Python', 'Data_Structures', 'Algorithms'],\n",
    "    ['Calculus_I', 'Linear_Algebra'],\n",
    "    ['Intro_to_Python', 'Web_Development_Basics'],\n",
    "    ['Data_Structures', 'Algorithms', 'Databases'],\n",
    "    ['Intro_to_Python', 'Data_Structures'],\n",
    "    ['Calculus_I', 'Linear_Algebra', 'Physics_I'],\n",
    "    ['Intro_to_Python', 'Machine_Learning_Basics'],\n",
    "    ['Data_Structures', 'Algorithms']\n",
    "]\n",
    "\n",
    "# Format the data\n",
    "te = TransactionEncoder()\n",
    "te_ary = te.fit(student_enrollments).transform(student_enrollments)\n",
    "df = pd.DataFrame(te_ary, columns=te.columns_)\n",
    "\n",
    "# Apply Apriori\n",
    "frequent_itemsets = apriori(df, min_support=0.25, use_colnames=True)\n",
    "\n",
    "# Generate rules\n",
    "rules = association_rules(frequent_itemsets, metric=\"confidence\", min_threshold=0.7)\n",
    "\n",
    "print(\"--- Course Recommendation: Top Association Rules ---\")\n",
    "print(rules[['antecedents', 'consequents', 'support', 'confidence', 'lift']])"
   ]
  },
  {
   "cell_type": "code",
   "execution_count": null,
   "id": "95069571-0eae-49a1-afa7-544d52d35b83",
   "metadata": {},
   "outputs": [],
   "source": []
  }
 ],
 "metadata": {
  "kernelspec": {
   "display_name": "Python 3 (ipykernel)",
   "language": "python",
   "name": "python3"
  },
  "language_info": {
   "codemirror_mode": {
    "name": "ipython",
    "version": 3
   },
   "file_extension": ".py",
   "mimetype": "text/x-python",
   "name": "python",
   "nbconvert_exporter": "python",
   "pygments_lexer": "ipython3",
   "version": "3.13.5"
  }
 },
 "nbformat": 4,
 "nbformat_minor": 5
}
