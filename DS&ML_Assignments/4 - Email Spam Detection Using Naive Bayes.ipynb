{
 "cells": [
  {
   "cell_type": "code",
   "execution_count": 1,
   "id": "0779266b-9404-4167-bc91-e554564326fb",
   "metadata": {},
   "outputs": [
    {
     "name": "stderr",
     "output_type": "stream",
     "text": [
      "[nltk_data] Downloading package stopwords to\n",
      "[nltk_data]     C:\\Users\\tilak\\AppData\\Roaming\\nltk_data...\n",
      "[nltk_data]   Unzipping corpora\\stopwords.zip.\n"
     ]
    },
    {
     "data": {
      "text/plain": [
       "True"
      ]
     },
     "execution_count": 1,
     "metadata": {},
     "output_type": "execute_result"
    }
   ],
   "source": [
    "import nltk\n",
    "nltk.download('stopwords')"
   ]
  },
  {
   "cell_type": "code",
   "execution_count": 2,
   "id": "ff7847ac-e7d0-4edc-ac90-a9c845e2cfbb",
   "metadata": {},
   "outputs": [
    {
     "name": "stdout",
     "output_type": "stream",
     "text": [
      "--- Step 1: Data Loaded Successfully ---\n",
      "   label                                            message\n",
      "0      0  Go until jurong point, crazy.. Available only ...\n",
      "1      0                      Ok lar... Joking wif u oni...\n",
      "2      1  Free entry in 2 a wkly comp to win FA Cup fina...\n",
      "3      0  U dun say so early hor... U c already then say...\n",
      "4      0  Nah I don't think he goes to usf, he lives aro...\n",
      "\n",
      "\n",
      "--- Step 2: Text Preprocessing Setup Complete ---\n",
      "\n",
      "--- Step 3: Feature Extraction & Splitting Complete ---\n",
      "\n",
      "--- Step 4: Model Training Complete ---\n",
      "\n",
      "--- Step 5: Model Evaluation ---\n",
      "Model Accuracy: 0.9848\n",
      "\n",
      "Classification Report:\n",
      "                precision    recall  f1-score   support\n",
      "\n",
      "Ham (Not Spam)       0.99      1.00      0.99       966\n",
      "          Spam       0.98      0.91      0.94       149\n",
      "\n",
      "      accuracy                           0.98      1115\n",
      "     macro avg       0.98      0.95      0.97      1115\n",
      "  weighted avg       0.98      0.98      0.98      1115\n",
      "\n",
      "\n",
      "Confusion matrix saved as 'spam_confusion_matrix.png'\n",
      "\n",
      "--- Analysis Complete ---\n"
     ]
    },
    {
     "data": {
      "image/png": "[encoded data removed]",
      "text/plain": [
       "<Figure size 600x400 with 2 Axes>"
      ]
     },
     "metadata": {},
     "output_type": "display_data"
    }
   ],
   "source": [
    "import pandas as pd\n",
    "import string\n",
    "from nltk.corpus import stopwords\n",
    "from sklearn.model_selection import train_test_split\n",
    "from sklearn.feature_extraction.text import CountVectorizer\n",
    "from sklearn.naive_bayes import MultinomialNB\n",
    "from sklearn.metrics import accuracy_score, classification_report, confusion_matrix\n",
    "import seaborn as sns\n",
    "import matplotlib.pyplot as plt\n",
    "\n",
    "# --- Step 1: Load the Data ---\n",
    "# We'll use a popular public dataset of SMS messages.\n",
    "try:\n",
    "    url = \"https://raw.githubusercontent.com/justmarkham/pycon-2016-tutorial/master/data/sms.tsv\"\n",
    "    df = pd.read_csv(url, sep='\\t', header=None, names=['label', 'message'])\n",
    "    # Convert labels to numerical format: 0 for 'ham' (not spam), 1 for 'spam'\n",
    "    df['label'] = df['label'].map({'ham': 0, 'spam': 1})\n",
    "    print(\"--- Step 1: Data Loaded Successfully ---\")\n",
    "    print(df.head())\n",
    "    print(\"\\n\")\n",
    "\n",
    "    # --- Step 2: Text Preprocessing ---\n",
    "    # This function removes punctuation and stopwords from a message.\n",
    "    def text_process(mess):\n",
    "        \"\"\"\n",
    "        1. Remove punctuation\n",
    "        2. Remove stopwords\n",
    "        3. Return a list of clean words\n",
    "        \"\"\"\n",
    "        NO_PUNC = [char for char in mess if char not in string.punctuation]\n",
    "        NO_PUNC = ''.join(NO_PUNC)\n",
    "        return [word for word in NO_PUNC.split() if word.lower() not in stopwords.words('english')]\n",
    "\n",
    "    print(\"--- Step 2: Text Preprocessing Setup Complete ---\\n\")\n",
    "\n",
    "    # --- Step 3: Feature Extraction & Data Splitting ---\n",
    "    # Split the data into features (X) and target (y)\n",
    "    X = df['message']\n",
    "    y = df['label']\n",
    "    X_train, X_test, y_train, y_test = train_test_split(X, y, test_size=0.2, random_state=42)\n",
    "\n",
    "    # Convert text messages into a matrix of token counts using our preprocessing function\n",
    "    count_vectorizer = CountVectorizer(analyzer=text_process)\n",
    "    X_train_counts = count_vectorizer.fit_transform(X_train)\n",
    "    X_test_counts = count_vectorizer.transform(X_test)\n",
    "    print(\"--- Step 3: Feature Extraction & Splitting Complete ---\\n\")\n",
    "\n",
    "    # --- Step 4: Train the Naive Bayes Model ---\n",
    "    # Use the Multinomial Naive Bayes classifier\n",
    "    nb_model = MultinomialNB()\n",
    "    nb_model.fit(X_train_counts, y_train)\n",
    "    print(\"--- Step 4: Model Training Complete ---\\n\")\n",
    "\n",
    "    # --- Step 5: Evaluate the Model ---\n",
    "    y_pred = nb_model.predict(X_test_counts)\n",
    "    accuracy = accuracy_score(y_test, y_pred)\n",
    "\n",
    "    print(\"--- Step 5: Model Evaluation ---\")\n",
    "    print(f\"Model Accuracy: {accuracy:.4f}\")\n",
    "    \n",
    "    # Precision and Recall are crucial for spam detection\n",
    "    print(\"\\nClassification Report:\")\n",
    "    print(classification_report(y_test, y_pred, target_names=['Ham (Not Spam)', 'Spam']))\n",
    "    \n",
    "    # Generate and save the confusion matrix\n",
    "    cm = confusion_matrix(y_test, y_pred)\n",
    "    plt.figure(figsize=(6, 4))\n",
    "    sns.heatmap(cm, annot=True, fmt='d', cmap='cividis', \n",
    "                xticklabels=['Ham', 'Spam'], yticklabels=['Ham', 'Spam'])\n",
    "    plt.xlabel('Predicted')\n",
    "    plt.ylabel('Actual')\n",
    "    plt.title('Confusion Matrix')\n",
    "    plt.savefig('spam_confusion_matrix.png')\n",
    "    print(\"\\nConfusion matrix saved as 'spam_confusion_matrix.png'\")\n",
    "    print(\"\\n--- Analysis Complete ---\")\n",
    "\n",
    "except Exception as e:\n",
    "    print(f\"An error occurred: {e}\")"
   ]
  },
  {
   "cell_type": "code",
   "execution_count": null,
   "id": "ac0569ea-157d-4f85-80f5-59b76ea1504e",
   "metadata": {},
   "outputs": [],
   "source": []
  }
 ],
 "metadata": {
  "kernelspec": {
   "display_name": "Python 3 (ipykernel)",
   "language": "python",
   "name": "python3"
  },
  "language_info": {
   "codemirror_mode": {
    "name": "ipython",
    "version": 3
   },
   "file_extension": ".py",
   "mimetype": "text/x-python",
   "name": "python",
   "nbconvert_exporter": "python",
   "pygments_lexer": "ipython3",
   "version": "3.13.5"
  }
 },
 "nbformat": 4,
 "nbformat_minor": 5
}
