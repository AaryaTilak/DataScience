{
 "cells": [
  {
   "cell_type": "code",
   "execution_count": 1,
   "id": "a8d6d3a6-a9fc-4800-b75f-2d746cc82e3d",
   "metadata": {},
   "outputs": [
    {
     "name": "stdout",
     "output_type": "stream",
     "text": [
      "--- Retail Loss Prevention: Suspicious Association Rules ---\n",
      "                            antecedents                          consequents  \\\n",
      "0                             (Diapers)                               (Beer)   \n",
      "1                              (Butter)                              (Bread)   \n",
      "2                          (Duffle_Bag)               (Security_Tag_Remover)   \n",
      "3                (Security_Tag_Remover)                         (Duffle_Bag)   \n",
      "4                          (Duffle_Bag)                        (Wire_Cutter)   \n",
      "5                         (Wire_Cutter)                         (Duffle_Bag)   \n",
      "6                (Security_Tag_Remover)                        (Wire_Cutter)   \n",
      "7                         (Wire_Cutter)               (Security_Tag_Remover)   \n",
      "8    (Duffle_Bag, Security_Tag_Remover)                        (Wire_Cutter)   \n",
      "9             (Duffle_Bag, Wire_Cutter)               (Security_Tag_Remover)   \n",
      "10  (Security_Tag_Remover, Wire_Cutter)                         (Duffle_Bag)   \n",
      "11                         (Duffle_Bag)  (Security_Tag_Remover, Wire_Cutter)   \n",
      "12               (Security_Tag_Remover)            (Duffle_Bag, Wire_Cutter)   \n",
      "13                        (Wire_Cutter)   (Duffle_Bag, Security_Tag_Remover)   \n",
      "\n",
      "    support  confidence  lift  \n",
      "0     0.125         1.0   4.0  \n",
      "1     0.125         1.0   4.0  \n",
      "2     0.250         1.0   4.0  \n",
      "3     0.250         1.0   4.0  \n",
      "4     0.250         1.0   4.0  \n",
      "5     0.250         1.0   4.0  \n",
      "6     0.250         1.0   4.0  \n",
      "7     0.250         1.0   4.0  \n",
      "8     0.250         1.0   4.0  \n",
      "9     0.250         1.0   4.0  \n",
      "10    0.250         1.0   4.0  \n",
      "11    0.250         1.0   4.0  \n",
      "12    0.250         1.0   4.0  \n",
      "13    0.250         1.0   4.0  \n"
     ]
    }
   ],
   "source": [
    "import pandas as pd\n",
    "from mlxtend.preprocessing import TransactionEncoder\n",
    "from mlxtend.frequent_patterns import apriori, association_rules\n",
    "\n",
    "# Data: Normal transactions plus a few suspicious ones.\n",
    "transactions = [\n",
    "    ['Milk', 'Bread'], ['Soda', 'Chips'], ['Diapers', 'Beer'], ['Milk', 'Soda'],\n",
    "    # A rare, suspicious pattern:\n",
    "    ['Wire_Cutter', 'Duffle_Bag', 'Security_Tag_Remover'],\n",
    "    ['Chips', 'Beer'], ['Bread', 'Butter'],\n",
    "    # The same rare pattern occurs again:\n",
    "    ['Wire_Cutter', 'Duffle_Bag', 'Security_Tag_Remover']\n",
    "]\n",
    "\n",
    "# Format the data\n",
    "te = TransactionEncoder()\n",
    "te_ary = te.fit(transactions).transform(transactions)\n",
    "df = pd.DataFrame(te_ary, columns=te.columns_)\n",
    "\n",
    "# Apply Apriori with a VERY LOW min_support to catch rare events\n",
    "frequent_itemsets = apriori(df, min_support=0.1, use_colnames=True)\n",
    "\n",
    "# Generate rules, looking for high confidence\n",
    "rules = association_rules(frequent_itemsets, metric=\"confidence\", min_threshold=0.9)\n",
    "\n",
    "print(\"--- Retail Loss Prevention: Suspicious Association Rules ---\")\n",
    "print(rules[['antecedents', 'consequents', 'support', 'confidence', 'lift']])"
   ]
  },
  {
   "cell_type": "code",
   "execution_count": null,
   "id": "7eb2a149-04c8-4535-8e3d-5f63808b44b2",
   "metadata": {},
   "outputs": [],
   "source": []
  }
 ],
 "metadata": {
  "kernelspec": {
   "display_name": "Python 3 (ipykernel)",
   "language": "python",
   "name": "python3"
  },
  "language_info": {
   "codemirror_mode": {
    "name": "ipython",
    "version": 3
   },
   "file_extension": ".py",
   "mimetype": "text/x-python",
   "name": "python",
   "nbconvert_exporter": "python",
   "pygments_lexer": "ipython3",
   "version": "3.13.5"
  }
 },
 "nbformat": 4,
 "nbformat_minor": 5
}
