{
 "cells": [
  {
   "cell_type": "code",
   "execution_count": 1,
   "id": "d2b244fa-3886-4a32-94eb-1cde08ea0dd8",
   "metadata": {},
   "outputs": [
    {
     "name": "stdout",
     "output_type": "stream",
     "text": [
      "--- Medical Prescriptions: Top Association Rules ---\n",
      "             antecedents            consequents   support  confidence  lift\n",
      "0         (Atorvastatin)            (Metformin)  0.333333        1.00  2.25\n",
      "1            (Metformin)         (Atorvastatin)  0.333333        0.75  2.25\n",
      "2           (Lisinopril)  (Hydrochlorothiazide)  0.333333        0.75  2.25\n",
      "3  (Hydrochlorothiazide)           (Lisinopril)  0.333333        1.00  2.25\n"
     ]
    }
   ],
   "source": [
    "import pandas as pd\n",
    "from mlxtend.preprocessing import TransactionEncoder\n",
    "from mlxtend.frequent_patterns import apriori, association_rules\n",
    "\n",
    "# Data: Each list is a set of drugs on a single prescription.\n",
    "prescriptions = [\n",
    "    ['Lisinopril', 'Hydrochlorothiazide'], # Common for high blood pressure\n",
    "    ['Metformin', 'Atorvastatin'],       # Common for diabetes + high cholesterol\n",
    "    ['Amoxicillin'],\n",
    "    ['Lisinopril', 'Hydrochlorothiazide', 'Aspirin'],\n",
    "    ['Ibuprofen', 'Acetaminophen'],\n",
    "    ['Metformin', 'Lisinopril'],\n",
    "    ['Metformin', 'Atorvastatin', 'Aspirin'],\n",
    "    ['Lisinopril', 'Hydrochlorothiazide'],\n",
    "    ['Metformin', 'Atorvastatin']\n",
    "]\n",
    "\n",
    "# Format the data\n",
    "te = TransactionEncoder()\n",
    "te_ary = te.fit(prescriptions).transform(prescriptions)\n",
    "df = pd.DataFrame(te_ary, columns=te.columns_)\n",
    "\n",
    "# Apply Apriori\n",
    "frequent_itemsets = apriori(df, min_support=0.2, use_colnames=True)\n",
    "\n",
    "# Generate rules\n",
    "rules = association_rules(frequent_itemsets, metric=\"confidence\", min_threshold=0.7)\n",
    "\n",
    "print(\"--- Medical Prescriptions: Top Association Rules ---\")\n",
    "print(rules[['antecedents', 'consequents', 'support', 'confidence', 'lift']])"
   ]
  },
  {
   "cell_type": "code",
   "execution_count": null,
   "id": "0888daba-9e6d-432d-957f-25b84aaead3b",
   "metadata": {},
   "outputs": [],
   "source": []
  }
 ],
 "metadata": {
  "kernelspec": {
   "display_name": "Python 3 (ipykernel)",
   "language": "python",
   "name": "python3"
  },
  "language_info": {
   "codemirror_mode": {
    "name": "ipython",
    "version": 3
   },
   "file_extension": ".py",
   "mimetype": "text/x-python",
   "name": "python",
   "nbconvert_exporter": "python",
   "pygments_lexer": "ipython3",
   "version": "3.13.5"
  }
 },
 "nbformat": 4,
 "nbformat_minor": 5
}
