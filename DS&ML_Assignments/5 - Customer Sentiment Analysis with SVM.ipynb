{
 "cells": [
  {
   "cell_type": "code",
   "execution_count": 2,
   "id": "abf3ee44-db63-4c08-a4d4-3ac9c528540a",
   "metadata": {},
   "outputs": [
    {
     "name": "stdout",
     "output_type": "stream",
     "text": [
      "An error occurred: HTTP Error 404: Not Found\n"
     ]
    }
   ],
   "source": [
    "import pandas as pd\n",
    "from sklearn.model_selection import train_test_split\n",
    "from sklearn.feature_extraction.text import TfidfVectorizer\n",
    "from sklearn.svm import LinearSVC\n",
    "from sklearn.pipeline import Pipeline\n",
    "from sklearn.metrics import accuracy_score, classification_report, confusion_matrix\n",
    "import seaborn as sns\n",
    "import matplotlib.pyplot as plt\n",
    "\n",
    "try:\n",
    "    # --- Step 1: Load the Data ---\n",
    "    # This is a new, working URL for the IMDB Movie Reviews dataset.\n",
    "    url = \"https://raw.githubusercontent.com/Ankit1598/IMDB-Dataset/master/IMDB%20Dataset.csv\"\n",
    "    df = pd.read_csv(url)\n",
    "\n",
    "    # The label column in this dataset is named 'sentiment'\n",
    "    # Map labels to numerical format: 1 for 'positive', 0 for 'negative'\n",
    "    df['sentiment'] = df['sentiment'].map({'positive': 1, 'negative': 0})\n",
    "    \n",
    "    print(\"--- Step 1: Data Loaded Successfully ---\")\n",
    "    print(\"Dataset shape:\", df.shape)\n",
    "    print(\"Label distribution:\")\n",
    "    print(df['sentiment'].value_counts())\n",
    "    print(\"\\n\")\n",
    "\n",
    "\n",
    "    # --- Step 2 & 3: Split Data and Prepare for Feature Extraction ---\n",
    "    X = df['review']      # The text reviews\n",
    "    y = df['sentiment']   # The sentiment labels\n",
    "\n",
    "    X_train, X_test, y_train, y_test = train_test_split(X, y, test_size=0.25, random_state=42)\n",
    "    print(\"--- Step 2 & 3: Data Split Complete ---\")\n",
    "    print(f\"Training set size: {len(X_train)}\")\n",
    "    print(f\"Testing set size: {len(X_test)}\\n\")\n",
    "\n",
    "\n",
    "    # --- Step 4: Train the Model using a Pipeline ---\n",
    "    text_clf = Pipeline([\n",
    "        ('tfidf', TfidfVectorizer(stop_words='english')),\n",
    "        ('clf', LinearSVC(max_iter=1000)), # Added max_iter to ensure convergence\n",
    "    ])\n",
    "\n",
    "    # Train the entire pipeline on the training data\n",
    "    text_clf.fit(X_train, y_train)\n",
    "    print(\"--- Step 4: Model Training Complete ---\\n\")\n",
    "\n",
    "\n",
    "    # --- Step 5: Evaluate the Model ---\n",
    "    predictions = text_clf.predict(X_test)\n",
    "    accuracy = accuracy_score(y_test, predictions)\n",
    "\n",
    "    print(\"--- Step 5: Model Evaluation ---\")\n",
    "    print(f\"Model Accuracy: {accuracy:.4f}\")\n",
    "    \n",
    "    print(\"\\nClassification Report:\")\n",
    "    print(classification_report(y_test, predictions, target_names=['Negative', 'Positive']))\n",
    "\n",
    "    # Generate and save the confusion matrix\n",
    "    cm = confusion_matrix(y_test, predictions)\n",
    "    plt.figure(figsize=(6, 4))\n",
    "    sns.heatmap(cm, annot=True, fmt='d', cmap='viridis', \n",
    "                xticklabels=['Negative', 'Positive'], yticklabels=['Negative', 'Positive'])\n",
    "    plt.xlabel('Predicted')\n",
    "    plt.ylabel('Actual')\n",
    "    plt.title('Confusion Matrix')\n",
    "    plt.savefig('sentiment_confusion_matrix.png')\n",
    "    print(\"\\nConfusion matrix saved as 'sentiment_confusion_matrix.png'\")\n",
    "    print(\"\\n--- Analysis Complete ---\")\n",
    "\n",
    "except Exception as e:\n",
    "    print(f\"An error occurred: {e}\")"
   ]
  },
  {
   "cell_type": "code",
   "execution_count": null,
   "id": "226e21b0-a255-4179-b9c0-c574a156315a",
   "metadata": {},
   "outputs": [],
   "source": []
  }
 ],
 "metadata": {
  "kernelspec": {
   "display_name": "Python 3 (ipykernel)",
   "language": "python",
   "name": "python3"
  },
  "language_info": {
   "codemirror_mode": {
    "name": "ipython",
    "version": 3
   },
   "file_extension": ".py",
   "mimetype": "text/x-python",
   "name": "python",
   "nbconvert_exporter": "python",
   "pygments_lexer": "ipython3",
   "version": "3.13.5"
  }
 },
 "nbformat": 4,
 "nbformat_minor": 5
}
